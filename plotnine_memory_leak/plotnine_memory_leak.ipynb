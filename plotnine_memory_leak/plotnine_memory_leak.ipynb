{
 "cells": [
  {
   "cell_type": "markdown",
   "id": "demographic-folder",
   "metadata": {},
   "source": [
    "This problem only occurs when you generate the frames in Jupyter Lab. The best solution is to simply generate a separate Python script that does not depend on Jupyter. Alternatively, you can set `plt.ioff`. Also see [this issue](https://github.com/has2k1/plotnine/issues/498) on the plotnine github."
   ]
  },
  {
   "cell_type": "code",
   "execution_count": 3,
   "id": "circular-chemical",
   "metadata": {},
   "outputs": [
    {
     "name": "stdout",
     "output_type": "stream",
     "text": [
      "0.006209536\n"
     ]
    }
   ],
   "source": [
    "import matplotlib.pyplot as plt\n",
    "import sys\n",
    "if sys.argv[1] == 'ioff':\n",
    "    plt.ioff()\n",
    "\n",
    "import warnings\n",
    "warnings.filterwarnings('ignore')\n",
    "import numpy as np\n",
    "import pandas as pd\n",
    "from plotnine import *\n",
    "import psutil \n",
    "import os\n",
    "\n",
    "# Functions based on https://www.geeksforgeeks.org/how-to-get-current-cpu-and-ram-usage-in-python/\n",
    "def get_mem_usage():\n",
    "    return psutil.virtual_memory()[3]\n",
    "\n",
    "def get_cpu_usage():\n",
    "    load1, load5, load15 = psutil.getloadavg() \n",
    "    return (load15/os.cpu_count()) * 100\n",
    "\n",
    "def test_mem(ioff = False, dot_each = 10, total = 100, verbose=False):\n",
    "    plot_data = pd.DataFrame(np.random.uniform(size=[200,2]), columns=['a', 'b'])\n",
    "    res = (\n",
    "        ggplot(plot_data) + geom_point(aes(x='a', y='b')) + theme(figure_size=[20,20])\n",
    "    )\n",
    "\n",
    "    if ioff:\n",
    "        plt.ioff()\n",
    "    it = 0\n",
    "    mem_usage = []\n",
    "    cpu_usage = []\n",
    "    while True:\n",
    "        ggsave(res, filename='test.png')\n",
    "        it += 1\n",
    "        if it % dot_each == 0:\n",
    "            if verbose:\n",
    "                print('.', end='')\n",
    "            mem_usage.append(get_mem_usage())\n",
    "            cpu_usage.append(get_cpu_usage())\n",
    "        if it == total:\n",
    "            break\n",
    "    if verbose:\n",
    "        return [mem_usage, cpu_usage, (max(mem_usage) - min(mem_usage)) / 1e9]\n",
    "    else:\n",
    "        return (max(mem_usage) - min(mem_usage)) / 1e9\n",
    "    \n",
    "#mem_usage, cpu_usage, gb_increase = test_mem()\n",
    "for i in range(5):\n",
    "    print(test_mem())"
   ]
  },
  {
   "cell_type": "code",
   "execution_count": null,
   "id": "competitive-penguin",
   "metadata": {},
   "outputs": [
    {
     "name": "stdout",
     "output_type": "stream",
     "text": [
      "Memory increase 0.015753216 GB\n",
      "Memory increase 0.008323072 GB\n"
     ]
    }
   ],
   "source": [
    "import matplotlib.pyplot as plt\n",
    "plt.ioff()\n",
    "\n",
    "import warnings\n",
    "warnings.filterwarnings('ignore')\n",
    "import numpy as np\n",
    "import pandas as pd\n",
    "from plotnine import *\n",
    "import psutil \n",
    "import os\n",
    "\n",
    "# Functions based on https://www.geeksforgeeks.org/how-to-get-current-cpu-and-ram-usage-in-python/\n",
    "def get_mem_usage():\n",
    "    return psutil.virtual_memory()[3]\n",
    "\n",
    "def get_cpu_usage():\n",
    "    load1, load5, load15 = psutil.getloadavg() \n",
    "    return (load15/os.cpu_count()) * 100\n",
    "\n",
    "def test_mem(dot_each = 10, total = 100, verbose=False):\n",
    "    plot_data = pd.DataFrame(np.random.uniform(size=[200,2]), columns=['a', 'b'])\n",
    "    res = (\n",
    "        ggplot(plot_data) + geom_point(aes(x='a', y='b')) + theme(figure_size=[20,20])\n",
    "    )\n",
    "\n",
    "    it = 0\n",
    "    mem_usage = []\n",
    "    cpu_usage = []\n",
    "    while True:\n",
    "        ggsave(res, filename='test.png')\n",
    "        it += 1\n",
    "        if it % dot_each == 0:\n",
    "            if verbose:\n",
    "                print('.', end='')\n",
    "            mem_usage.append(get_mem_usage())\n",
    "            cpu_usage.append(get_cpu_usage())\n",
    "        if it == total:\n",
    "            break\n",
    "    if verbose:\n",
    "        return [mem_usage, cpu_usage, (max(mem_usage) - min(mem_usage)) / 1e9]\n",
    "    else:\n",
    "        return (max(mem_usage) - min(mem_usage)) / 1e9\n",
    "    \n",
    "#mem_usage, cpu_usage, gb_increase = test_mem()\n",
    "for i in range(5):\n",
    "    print('Memory increase', test_mem(), 'GB')"
   ]
  },
  {
   "cell_type": "code",
   "execution_count": 2,
   "id": "great-oxide",
   "metadata": {},
   "outputs": [
    {
     "data": {
      "text/plain": [
       "1.02047744"
      ]
     },
     "execution_count": 2,
     "metadata": {},
     "output_type": "execute_result"
    }
   ],
   "source": []
  },
  {
   "cell_type": "code",
   "execution_count": 3,
   "id": "abandoned-stuff",
   "metadata": {},
   "outputs": [
    {
     "data": {
      "text/plain": [
       "svmem(total=17126686720, available=8726306816, percent=49.0, used=8358625280, free=8533204992, active=171577344, inactive=161665024, buffers=34848768, cached=200007680, shared=18145280, slab=14200832)"
      ]
     },
     "execution_count": 3,
     "metadata": {},
     "output_type": "execute_result"
    }
   ],
   "source": [
    "psutil.virtual_memory()"
   ]
  },
  {
   "cell_type": "code",
   "execution_count": 20,
   "id": "disabled-cartoon",
   "metadata": {},
   "outputs": [
    {
     "name": "stdout",
     "output_type": "stream",
     "text": [
      "RAM memory % used: 40.4\n"
     ]
    }
   ],
   "source": [
    "import psutil \n",
    "  \n",
    "# Getting % usage of virtual_memory ( 3rd field) \n",
    "print('RAM memory % used:', psutil.virtual_memory()[2]) "
   ]
  },
  {
   "cell_type": "code",
   "execution_count": 2,
   "id": "republican-partner",
   "metadata": {},
   "outputs": [
    {
     "name": "stdout",
     "output_type": "stream",
     "text": [
      "x\n"
     ]
    }
   ],
   "source": [
    "# Without ioff\n",
    "# xmmxmxmxm\n",
    "\n",
    "print('x')"
   ]
  }
 ],
 "metadata": {
  "kernelspec": {
   "display_name": "Python 3",
   "language": "python",
   "name": "python3"
  },
  "language_info": {
   "codemirror_mode": {
    "name": "ipython",
    "version": 3
   },
   "file_extension": ".py",
   "mimetype": "text/x-python",
   "name": "python",
   "nbconvert_exporter": "python",
   "pygments_lexer": "ipython3",
   "version": "3.8.5"
  }
 },
 "nbformat": 4,
 "nbformat_minor": 5
}
