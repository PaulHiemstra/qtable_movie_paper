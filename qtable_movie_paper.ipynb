{
 "cells": [
  {
   "cell_type": "markdown",
   "id": "mental-scanning",
   "metadata": {},
   "source": [
    "# An AI agent learns to play tic-tac-toe part 4: visualising the Q table\n",
    "*Where we visualise the Q table during the training process using plotnine and ffmpeg*\n",
    "\n",
    "\n",
    "    ffmpeg -r 30 -f image2 -s 1920x1080 -i qtable_ep%06d.png -vcodec libx264 -crf 25  -pix_fmt yuv420p qtable.mp4"
   ]
  }
 ],
 "metadata": {
  "kernelspec": {
   "display_name": "Python 3",
   "language": "python",
   "name": "python3"
  },
  "language_info": {
   "codemirror_mode": {
    "name": "ipython",
    "version": 3
   },
   "file_extension": ".py",
   "mimetype": "text/x-python",
   "name": "python",
   "nbconvert_exporter": "python",
   "pygments_lexer": "ipython3",
   "version": "3.8.5"
  }
 },
 "nbformat": 4,
 "nbformat_minor": 5
}
